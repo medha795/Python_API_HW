{
 "cells": [
  {
   "cell_type": "markdown",
   "metadata": {},
   "source": [
    "# VacationPy\n",
    "----\n",
    "\n",
    "#### Note\n",
    "* Keep an eye on your API usage. Use https://developers.google.com/maps/reporting/gmp-reporting as reference for how to monitor your usage and billing.\n",
    "\n",
    "* Instructions have been included for each segment. You do not have to follow them exactly, but they are included to help you think through the steps."
   ]
  },
  {
   "cell_type": "code",
   "execution_count": 1,
   "metadata": {},
   "outputs": [],
   "source": [
    "# Dependencies and Setup\n",
    "import matplotlib.pyplot as plt\n",
    "import pandas as pd\n",
    "import numpy as np\n",
    "import requests\n",
    "import gmaps\n",
    "import os\n",
    "\n",
    "from api_keys import g_key"
   ]
  },
  {
   "cell_type": "markdown",
   "metadata": {},
   "source": [
    "### Store Part I results into DataFrame\n",
    "* Load the csv exported in Part I to a DataFrame"
   ]
  },
  {
   "cell_type": "code",
   "execution_count": 2,
   "metadata": {},
   "outputs": [
    {
     "name": "stdout",
     "output_type": "stream",
     "text": [
      "     Unnamed: 0           Name  Latitude  Longitude  Temperature (F)  \\\n",
      "0             0  Port Mathurin    -19.68      63.42            76.78   \n",
      "1             1      Hanga Roa    -27.15    -109.43            66.20   \n",
      "2             2    Yellowknife     62.46    -114.35           -13.88   \n",
      "3             3          Vadso     70.07      29.75            28.40   \n",
      "4             4     St. John's     47.56     -52.71            35.26   \n",
      "..          ...            ...       ...        ...              ...   \n",
      "444         444     Zyryanovsk     49.74      84.27            18.12   \n",
      "445         445          Mansa     29.98      75.38            71.55   \n",
      "446         446          Irece    -11.30     -41.86            71.69   \n",
      "447         447         Vanimo     -2.67     141.30            84.33   \n",
      "448         448        Huarmey    -10.07     -78.15            62.28   \n",
      "\n",
      "     Maximum Temperature(F)  Minimum Temperature(F)  Humidity (%)  \\\n",
      "0                     76.78                   76.78            71   \n",
      "1                     66.20                   66.20            68   \n",
      "2                     -9.99                  -16.60            75   \n",
      "3                     28.40                   28.40            92   \n",
      "4                     37.00                   33.80            74   \n",
      "..                      ...                     ...           ...   \n",
      "444                   18.12                   18.12            90   \n",
      "445                   71.55                   71.55            20   \n",
      "446                   71.69                   71.69            83   \n",
      "447                   84.33                   84.33            68   \n",
      "448                   62.28                   62.28            88   \n",
      "\n",
      "     Cloudiness (%)  Wind Speed (mph)  \n",
      "0                 6              9.26  \n",
      "1                90             17.22  \n",
      "2                 5              3.36  \n",
      "3               100             19.46  \n",
      "4                 5             31.09  \n",
      "..              ...               ...  \n",
      "444              81              0.85  \n",
      "445              35              5.21  \n",
      "446             100              5.70  \n",
      "447              52              5.61  \n",
      "448              23              6.06  \n",
      "\n",
      "[449 rows x 10 columns]\n"
     ]
    }
   ],
   "source": [
    "cities = pd.read_csv(\"Output/cities.csv\")\n",
    "print(cities)"
   ]
  },
  {
   "cell_type": "markdown",
   "metadata": {},
   "source": [
    "### Humidity Heatmap\n",
    "* Configure gmaps.\n",
    "* Use the Lat and Lng as locations and Humidity as the weight.\n",
    "* Add Heatmap layer to map."
   ]
  },
  {
   "cell_type": "code",
   "execution_count": 3,
   "metadata": {},
   "outputs": [],
   "source": [
    "# Configure gmaps with API key\n",
    "gmaps.configure(api_key=g_key)"
   ]
  },
  {
   "cell_type": "code",
   "execution_count": 4,
   "metadata": {},
   "outputs": [],
   "source": [
    "humidity = cities[\"Humidity (%)\"].astype(float)\n",
    "maxhumidity = humidity.max()\n",
    "locations = cities[[\"Latitude\", \"Longitude\"]]"
   ]
  },
  {
   "cell_type": "code",
   "execution_count": 5,
   "metadata": {},
   "outputs": [
    {
     "data": {
      "application/vnd.jupyter.widget-view+json": {
       "model_id": "a6465860e3c74d24bcf686fabbf412b9",
       "version_major": 2,
       "version_minor": 0
      },
      "text/plain": [
       "Figure(layout=FigureLayout(height='420px'))"
      ]
     },
     "metadata": {},
     "output_type": "display_data"
    }
   ],
   "source": [
    "fig = gmaps.figure()\n",
    "heat_layer = gmaps.heatmap_layer(locations, weights=humidity,dissipating=False, max_intensity=maxhumidity,point_radius=3)\n",
    "fig.add_layer(heat_layer)\n",
    "fig"
   ]
  },
  {
   "cell_type": "markdown",
   "metadata": {},
   "source": [
    "### Create new DataFrame fitting weather criteria\n",
    "* Narrow down the cities to fit weather conditions.\n",
    "* Drop any rows will null values."
   ]
  },
  {
   "cell_type": "code",
   "execution_count": 6,
   "metadata": {},
   "outputs": [
    {
     "name": "stdout",
     "output_type": "stream",
     "text": [
      "    Unnamed: 0            Name  Latitude  Longitude  Temperature (F)  \\\n",
      "0           62           Tarim     16.06      49.00            75.25   \n",
      "1          221    Cidade Velha     14.92     -23.62            71.60   \n",
      "2          232          Gwadar     25.12      62.33            75.25   \n",
      "3          257         Fyzabad     26.78      82.13            72.97   \n",
      "4          298        Chamical    -30.36     -66.31            72.57   \n",
      "5          333           Nasir     15.59      32.56            72.27   \n",
      "6          335          Najran     17.49      44.13            71.60   \n",
      "7          345         Chabana     27.05     128.42            75.20   \n",
      "8          347  Khartoum North     15.63      32.63            72.28   \n",
      "9          391         Winneba      5.35      -0.62            78.80   \n",
      "10         417           Praya     14.92     -23.51            71.60   \n",
      "11         430        Trindade    -16.65     -49.49            71.60   \n",
      "\n",
      "    Maximum Temperature(F)  Minimum Temperature(F)  Humidity (%)  \\\n",
      "0                    75.25                   75.25            29   \n",
      "1                    71.60                   71.60            83   \n",
      "2                    75.25                   75.25            43   \n",
      "3                    72.97                   72.97            28   \n",
      "4                    72.57                   72.57            46   \n",
      "5                    73.00                   71.60            28   \n",
      "6                    71.60                   71.60            30   \n",
      "7                    75.20                   75.20            73   \n",
      "8                    73.00                   71.60            28   \n",
      "9                    78.80                   78.80            88   \n",
      "10                   71.60                   71.60            83   \n",
      "11                   71.60                   71.60            73   \n",
      "\n",
      "    Cloudiness (%)  Wind Speed (mph)  \n",
      "0                0              3.83  \n",
      "1                0              5.82  \n",
      "2                0              3.83  \n",
      "3                0              6.22  \n",
      "4                0             10.67  \n",
      "5                0             13.87  \n",
      "6                0              1.16  \n",
      "7                0              8.05  \n",
      "8                0             13.87  \n",
      "9                0              6.93  \n",
      "10               0              5.82  \n",
      "11               0              9.17  \n"
     ]
    }
   ],
   "source": [
    "narrowed_city_df = cities.loc[(cities[\"Maximum Temperature(F)\"] > 70) & (cities[\"Maximum Temperature(F)\"] < 80) & (cities[\"Cloudiness (%)\"] == 0), :]\n",
    "narrowed_city_df = narrowed_city_df.dropna(how='any')\n",
    "narrowed_city_df.reset_index(inplace=True)\n",
    "del narrowed_city_df['index']\n",
    "print(narrowed_city_df)"
   ]
  },
  {
   "cell_type": "markdown",
   "metadata": {},
   "source": [
    "### Hotel Map\n",
    "* Store into variable named `hotel_df`.\n",
    "* Add a \"Hotel Name\" column to the DataFrame.\n",
    "* Set parameters to search for hotels with 5000 meters.\n",
    "* Hit the Google Places API for each city's coordinates.\n",
    "* Store the first Hotel result into the DataFrame.\n",
    "* Plot markers on top of the heatmap."
   ]
  },
  {
   "cell_type": "code",
   "execution_count": 16,
   "metadata": {},
   "outputs": [
    {
     "data": {
      "text/html": [
       "<div>\n",
       "<style scoped>\n",
       "    .dataframe tbody tr th:only-of-type {\n",
       "        vertical-align: middle;\n",
       "    }\n",
       "\n",
       "    .dataframe tbody tr th {\n",
       "        vertical-align: top;\n",
       "    }\n",
       "\n",
       "    .dataframe thead th {\n",
       "        text-align: right;\n",
       "    }\n",
       "</style>\n",
       "<table border=\"1\" class=\"dataframe\">\n",
       "  <thead>\n",
       "    <tr style=\"text-align: right;\">\n",
       "      <th></th>\n",
       "      <th>Unnamed: 0</th>\n",
       "      <th>Name</th>\n",
       "      <th>Latitude</th>\n",
       "      <th>Longitude</th>\n",
       "      <th>Temperature (F)</th>\n",
       "      <th>Maximum Temperature(F)</th>\n",
       "      <th>Minimum Temperature(F)</th>\n",
       "      <th>Humidity (%)</th>\n",
       "      <th>Cloudiness (%)</th>\n",
       "      <th>Wind Speed (mph)</th>\n",
       "      <th>Hotel Name</th>\n",
       "    </tr>\n",
       "  </thead>\n",
       "  <tbody>\n",
       "    <tr>\n",
       "      <th>0</th>\n",
       "      <td>62</td>\n",
       "      <td>Tarim</td>\n",
       "      <td>16.06</td>\n",
       "      <td>49.00</td>\n",
       "      <td>75.25</td>\n",
       "      <td>75.25</td>\n",
       "      <td>75.25</td>\n",
       "      <td>29</td>\n",
       "      <td>0</td>\n",
       "      <td>3.83</td>\n",
       "      <td>Tarim</td>\n",
       "    </tr>\n",
       "    <tr>\n",
       "      <th>1</th>\n",
       "      <td>221</td>\n",
       "      <td>Cidade Velha</td>\n",
       "      <td>14.92</td>\n",
       "      <td>-23.62</td>\n",
       "      <td>71.60</td>\n",
       "      <td>71.60</td>\n",
       "      <td>71.60</td>\n",
       "      <td>83</td>\n",
       "      <td>0</td>\n",
       "      <td>5.82</td>\n",
       "      <td>Porto Gouveia</td>\n",
       "    </tr>\n",
       "    <tr>\n",
       "      <th>2</th>\n",
       "      <td>232</td>\n",
       "      <td>Gwadar</td>\n",
       "      <td>25.12</td>\n",
       "      <td>62.33</td>\n",
       "      <td>75.25</td>\n",
       "      <td>75.25</td>\n",
       "      <td>75.25</td>\n",
       "      <td>43</td>\n",
       "      <td>0</td>\n",
       "      <td>3.83</td>\n",
       "      <td>Gwadar</td>\n",
       "    </tr>\n",
       "    <tr>\n",
       "      <th>3</th>\n",
       "      <td>257</td>\n",
       "      <td>Fyzabad</td>\n",
       "      <td>26.78</td>\n",
       "      <td>82.13</td>\n",
       "      <td>72.97</td>\n",
       "      <td>72.97</td>\n",
       "      <td>72.97</td>\n",
       "      <td>28</td>\n",
       "      <td>0</td>\n",
       "      <td>6.22</td>\n",
       "      <td>Faizabad</td>\n",
       "    </tr>\n",
       "    <tr>\n",
       "      <th>4</th>\n",
       "      <td>298</td>\n",
       "      <td>Chamical</td>\n",
       "      <td>-30.36</td>\n",
       "      <td>-66.31</td>\n",
       "      <td>72.57</td>\n",
       "      <td>72.57</td>\n",
       "      <td>72.57</td>\n",
       "      <td>46</td>\n",
       "      <td>0</td>\n",
       "      <td>10.67</td>\n",
       "      <td>Chamical</td>\n",
       "    </tr>\n",
       "  </tbody>\n",
       "</table>\n",
       "</div>"
      ],
      "text/plain": [
       "   Unnamed: 0          Name  Latitude  Longitude  Temperature (F)  \\\n",
       "0          62         Tarim     16.06      49.00            75.25   \n",
       "1         221  Cidade Velha     14.92     -23.62            71.60   \n",
       "2         232        Gwadar     25.12      62.33            75.25   \n",
       "3         257       Fyzabad     26.78      82.13            72.97   \n",
       "4         298      Chamical    -30.36     -66.31            72.57   \n",
       "\n",
       "   Maximum Temperature(F)  Minimum Temperature(F)  Humidity (%)  \\\n",
       "0                   75.25                   75.25            29   \n",
       "1                   71.60                   71.60            83   \n",
       "2                   75.25                   75.25            43   \n",
       "3                   72.97                   72.97            28   \n",
       "4                   72.57                   72.57            46   \n",
       "\n",
       "   Cloudiness (%)  Wind Speed (mph)     Hotel Name  \n",
       "0               0              3.83          Tarim  \n",
       "1               0              5.82  Porto Gouveia  \n",
       "2               0              3.83         Gwadar  \n",
       "3               0              6.22       Faizabad  \n",
       "4               0             10.67       Chamical  "
      ]
     },
     "execution_count": 16,
     "metadata": {},
     "output_type": "execute_result"
    }
   ],
   "source": [
    "hotel_df = []\n",
    "\n",
    "for i in range(len(narrowed_city_df)):\n",
    "    latitude = narrowed_city_df.loc[i]['Latitude']\n",
    "    longitude = narrowed_city_df.loc[i]['Longitude']\n",
    "\n",
    "    params = {\n",
    "        \"row\": i,\n",
    "        \"location\": f\"{latitude},{longitude}\",\n",
    "        \"radius\": 5000,\n",
    "        \"types\" : \"hotel\",\n",
    "        \"key\": g_key\n",
    "    }\n",
    "    \n",
    "    base_url = \"https://maps.googleapis.com/maps/api/place/nearbysearch/json\"\n",
    "    requested = requests.get(base_url, params=params)\n",
    "    jsn = requested.json()\n",
    "    try:\n",
    "        hotel_df.append(jsn['results'][0]['name'])\n",
    "    except:\n",
    "        hotel_df.append(\"\")\n",
    "narrowed_city_df[\"Hotel Name\"] = hotel_df\n",
    "narrowed_city_df = narrowed_city_df.dropna(how='any')\n",
    "narrowed_city_df.head()\n"
   ]
  },
  {
   "cell_type": "code",
   "execution_count": null,
   "metadata": {},
   "outputs": [],
   "source": []
  },
  {
   "cell_type": "code",
   "execution_count": 14,
   "metadata": {},
   "outputs": [
    {
     "ename": "AttributeError",
     "evalue": "'list' object has no attribute 'row'",
     "output_type": "error",
     "traceback": [
      "\u001b[1;31m---------------------------------------------------------------------------\u001b[0m",
      "\u001b[1;31mAttributeError\u001b[0m                            Traceback (most recent call last)",
      "\u001b[1;32m<ipython-input-14-de03a2dd570f>\u001b[0m in \u001b[0;36m<module>\u001b[1;34m\u001b[0m\n\u001b[0;32m     11\u001b[0m \u001b[1;31m# Store the DataFrame Row\u001b[0m\u001b[1;33m\u001b[0m\u001b[1;33m\u001b[0m\u001b[1;33m\u001b[0m\u001b[0m\n\u001b[0;32m     12\u001b[0m \u001b[1;31m# NOTE: be sure to update with your DataFrame name\u001b[0m\u001b[1;33m\u001b[0m\u001b[1;33m\u001b[0m\u001b[1;33m\u001b[0m\u001b[0m\n\u001b[1;32m---> 13\u001b[1;33m \u001b[0mhotel_info\u001b[0m \u001b[1;33m=\u001b[0m \u001b[1;33m[\u001b[0m\u001b[0minfo_box_template\u001b[0m\u001b[1;33m.\u001b[0m\u001b[0mformat\u001b[0m\u001b[1;33m(\u001b[0m\u001b[1;33m**\u001b[0m\u001b[0mrow\u001b[0m\u001b[1;33m)\u001b[0m \u001b[1;32mfor\u001b[0m \u001b[0mindex\u001b[0m\u001b[1;33m,\u001b[0m \u001b[0mrow\u001b[0m \u001b[1;32min\u001b[0m \u001b[0mhotel_df\u001b[0m\u001b[1;33m.\u001b[0m\u001b[0mrow\u001b[0m\u001b[1;33m(\u001b[0m\u001b[1;33m)\u001b[0m\u001b[1;33m]\u001b[0m\u001b[1;33m\u001b[0m\u001b[1;33m\u001b[0m\u001b[0m\n\u001b[0m\u001b[0;32m     14\u001b[0m \u001b[0mlocations\u001b[0m \u001b[1;33m=\u001b[0m \u001b[0mhotel_df\u001b[0m\u001b[1;33m[\u001b[0m\u001b[1;33m[\u001b[0m\u001b[1;34m\"Latitude\"\u001b[0m\u001b[1;33m,\u001b[0m \u001b[1;34m\"Longitude\"\u001b[0m\u001b[1;33m]\u001b[0m\u001b[1;33m]\u001b[0m\u001b[1;33m\u001b[0m\u001b[1;33m\u001b[0m\u001b[0m\n",
      "\u001b[1;31mAttributeError\u001b[0m: 'list' object has no attribute 'row'"
     ]
    }
   ],
   "source": [
    "# NOTE: Do not change any of the code in this cell\n",
    "\n",
    "# Using the template add the hotel marks to the heatmap\n",
    "info_box_template = \"\"\"\n",
    "<dl>\n",
    "<dt>Name</dt><dd>{Hotel Name}</dd>\n",
    "<dt>City</dt><dd>{City}</dd>\n",
    "<dt>Country</dt><dd>{Country}</dd>\n",
    "</dl>\n",
    "\"\"\"\n",
    "# Store the DataFrame Row\n",
    "# NOTE: be sure to update with your DataFrame name\n",
    "hotel_info = [info_box_template.format(**row) for index, row in hotel_df.row()]\n",
    "locations = hotel_df[[\"Latitude\", \"Longitude\"]]"
   ]
  },
  {
   "cell_type": "code",
   "execution_count": 9,
   "metadata": {},
   "outputs": [
    {
     "data": {
      "application/vnd.jupyter.widget-view+json": {
       "model_id": "a6465860e3c74d24bcf686fabbf412b9",
       "version_major": 2,
       "version_minor": 0
      },
      "text/plain": [
       "Figure(layout=FigureLayout(height='420px'))"
      ]
     },
     "metadata": {},
     "output_type": "display_data"
    }
   ],
   "source": [
    "# Add marker layer ontop of heat map\n",
    "markers = gmaps.marker_layer(locations)\n",
    "fig.add_layer(markers)\n",
    "fig\n",
    "\n"
   ]
  },
  {
   "cell_type": "code",
   "execution_count": null,
   "metadata": {},
   "outputs": [],
   "source": []
  }
 ],
 "metadata": {
  "kernelspec": {
   "display_name": "Python 3",
   "language": "python",
   "name": "python3"
  },
  "language_info": {
   "codemirror_mode": {
    "name": "ipython",
    "version": 3
   },
   "file_extension": ".py",
   "mimetype": "text/x-python",
   "name": "python",
   "nbconvert_exporter": "python",
   "pygments_lexer": "ipython3",
   "version": "3.8.3"
  },
  "latex_envs": {
   "LaTeX_envs_menu_present": true,
   "autoclose": false,
   "autocomplete": true,
   "bibliofile": "biblio.bib",
   "cite_by": "apalike",
   "current_citInitial": 1,
   "eqLabelWithNumbers": true,
   "eqNumInitial": 1,
   "hotkeys": {
    "equation": "Ctrl-E",
    "itemize": "Ctrl-I"
   },
   "labels_anchors": false,
   "latex_user_defs": false,
   "report_style_numbering": false,
   "user_envs_cfg": false
  }
 },
 "nbformat": 4,
 "nbformat_minor": 4
}
