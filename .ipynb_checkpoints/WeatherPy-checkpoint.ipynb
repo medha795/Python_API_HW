{
 "cells": [
  {
   "cell_type": "markdown",
   "metadata": {},
   "source": [
    "# WeatherPy\n",
    "----\n",
    "\n",
    "#### Note\n",
    "* Instructions have been included for each segment. You do not have to follow them exactly, but they are included to help you think through the steps."
   ]
  },
  {
   "cell_type": "code",
   "execution_count": 1,
   "metadata": {
    "scrolled": true
   },
   "outputs": [],
   "source": [
    "# Dependencies and Setup\n",
    "import citipy as cpy\n",
    "import matplotlib.pyplot as plt\n",
    "import pandas as pd\n",
    "import numpy as np\n",
    "import requests\n",
    "import time\n",
    "from scipy.stats import linregress\n",
    "import api_keys as api_k\n",
    "# Import API key\n",
    "from api_keys import weather_api_key\n",
    "\n",
    "# Incorporated citipy to determine city based on latitude and longitude\n",
    "#from citipy import City\n",
    "\n",
    "# Output File (CSV)\n",
    "output_data_file = \"output_data/cities.csv\"\n",
    "\n",
    "\n",
    "# Range of latitudes and longitudes\n",
    "lat_range = (-90, 90)\n",
    "lng_range = (-180, 180)"
   ]
  },
  {
   "cell_type": "markdown",
   "metadata": {},
   "source": [
    "## Generate Cities List"
   ]
  },
  {
   "cell_type": "code",
   "execution_count": 2,
   "metadata": {},
   "outputs": [
    {
     "data": {
      "text/plain": [
       "596"
      ]
     },
     "execution_count": 2,
     "metadata": {},
     "output_type": "execute_result"
    }
   ],
   "source": [
    "# List for holding lat_lngs and cities\n",
    "lat_lngs = []\n",
    "cities = []\n",
    "\n",
    "# Create a set of random lat and lng combinations\n",
    "lats = np.random.uniform(lat_range[0], lat_range[1], size=1500)\n",
    "lngs = np.random.uniform(lng_range[0], lng_range[1], size=1500)\n",
    "lat_lngs = zip(lats, lngs)\n",
    "\n",
    "# Identify nearest city for each lat, lng combination\n",
    "for lat_lng in lat_lngs:\n",
    "    city = cpy.nearest_city(lat_lng[0], lat_lng[1]).city_name\n",
    "    \n",
    "    # If the city is unique, then add it to a our cities list\n",
    "    if city not in cities:\n",
    "        cities.append(city)\n",
    "\n",
    "# Print the city count to confirm sufficient count\n",
    "len(cities)"
   ]
  },
  {
   "cell_type": "markdown",
   "metadata": {},
   "source": [
    "### Perform API Calls\n",
    "* Perform a weather check on each city using a series of successive API calls.\n",
    "* Include a print log of each city as it'sbeing processed (with the city number and city name).\n"
   ]
  },
  {
   "cell_type": "code",
   "execution_count": 3,
   "metadata": {
    "scrolled": true
   },
   "outputs": [
    {
     "name": "stdout",
     "output_type": "stream",
     "text": [
      "Beginning Data Retrieval     \n",
      "-----------------------------\n",
      "Processing Record 1 of Set 1 | Mistassini\n",
      "Processing Record 2 of Set 1 | Edinburgh of the Seven Seas\n",
      "Processing Record 3 of Set 1 | Hawaiian Paradise Park\n",
      "Processing Record 4 of Set 1 | Torbay\n",
      "Processing Record 5 of Set 1 | Yellowknife\n",
      "Processing Record 6 of Set 1 | Quelimane\n",
      "Processing Record 7 of Set 1 | Dunedin\n",
      "City not found. Skipping...\n",
      "Processing Record 1 of Set 2 | Hanga Roa\n",
      "Processing Record 2 of Set 2 | Aweil\n",
      "Processing Record 3 of Set 2 | Acarau\n",
      "Processing Record 4 of Set 2 | Halfmoon Bay\n",
      "Processing Record 5 of Set 2 | Puerto Villamil\n",
      "Processing Record 6 of Set 2 | Kingston\n",
      "Processing Record 7 of Set 2 | Mogadishu\n",
      "Processing Record 8 of Set 2 | Severo-Kuril'sk\n",
      "Processing Record 9 of Set 2 | Albany\n",
      "Processing Record 10 of Set 2 | Georgetown\n",
      "Processing Record 11 of Set 2 | Provideniya\n",
      "Processing Record 12 of Set 2 | Happy Valley\n",
      "Processing Record 13 of Set 2 | Waitangi\n",
      "Processing Record 14 of Set 2 | Laguna\n",
      "Processing Record 15 of Set 2 | Alesund\n",
      "Processing Record 16 of Set 2 | Puerto Williams\n",
      "Processing Record 17 of Set 2 | Bredasdorp\n",
      "Processing Record 18 of Set 2 | Auki\n",
      "Processing Record 19 of Set 2 | Vila do Porto\n",
      "Processing Record 20 of Set 2 | Iqaluit\n",
      "Processing Record 21 of Set 2 | Margaret River\n",
      "Processing Record 22 of Set 2 | Krasnogorsk\n",
      "Processing Record 23 of Set 2 | Port Elizabeth\n",
      "Processing Record 24 of Set 2 | Grytviken\n",
      "Processing Record 25 of Set 2 | Nurlat\n",
      "Processing Record 26 of Set 2 | Koronadal\n",
      "City not found. Skipping...\n",
      "Processing Record 1 of Set 3 | Leava\n",
      "Processing Record 2 of Set 3 | Safotu\n",
      "Processing Record 3 of Set 3 | Campbell River\n",
      "Processing Record 4 of Set 3 | Liberia\n",
      "Processing Record 5 of Set 3 | Cap Malheureux\n",
      "Processing Record 6 of Set 3 | Senhor do Bonfim\n",
      "Processing Record 7 of Set 3 | Port Lincoln\n",
      "Processing Record 8 of Set 3 | Nord\n",
      "City not found. Skipping...\n",
      "Processing Record 1 of Set 4 | Hithadhoo\n",
      "Processing Record 2 of Set 4 | Svolvaer\n",
      "City not found. Skipping...\n",
      "Processing Record 1 of Set 5 | Hammerfest\n",
      "City not found. Skipping...\n",
      "Processing Record 1 of Set 6 | Walvisbaai\n",
      "Processing Record 2 of Set 6 | Puerto de la Cruz\n",
      "Processing Record 3 of Set 6 | Krong Kep\n",
      "City not found. Skipping...\n",
      "City not found. Skipping...\n",
      "Processing Record 1 of Set 8 | Olekminsk\n",
      "Processing Record 2 of Set 8 | El Bayadh\n",
      "Processing Record 3 of Set 8 | Petropavlovsk-Kamchatskiy\n",
      "Processing Record 4 of Set 8 | Shali\n",
      "Processing Record 5 of Set 8 | Halls Creek\n",
      "Processing Record 6 of Set 8 | College\n",
      "Processing Record 7 of Set 8 | Lebu\n",
      "Processing Record 8 of Set 8 | Kodiak\n",
      "City not found. Skipping...\n",
      "City not found. Skipping...\n",
      "City not found. Skipping...\n",
      "Processing Record 1 of Set 11 | Qaanaaq\n",
      "Processing Record 2 of Set 11 | Burgos\n",
      "Processing Record 3 of Set 11 | Ternate\n",
      "Processing Record 4 of Set 11 | Ponta do Sol\n",
      "Processing Record 5 of Set 11 | Viseu\n",
      "Processing Record 6 of Set 11 | East London\n",
      "Processing Record 7 of Set 11 | Yulara\n",
      "Processing Record 8 of Set 11 | Punakha\n",
      "Processing Record 9 of Set 11 | Pago Pago\n",
      "Processing Record 10 of Set 11 | Kalanchak\n",
      "Processing Record 11 of Set 11 | Zvezdnyy\n",
      "Processing Record 12 of Set 11 | I-n-Salah\n",
      "Processing Record 13 of Set 11 | Port Mathurin\n",
      "Processing Record 14 of Set 11 | Thompson\n",
      "Processing Record 15 of Set 11 | Torghay\n",
      "Processing Record 16 of Set 11 | Ouadda\n",
      "City not found. Skipping...\n",
      "Processing Record 1 of Set 12 | Ornskoldsvik\n",
      "City not found. Skipping...\n",
      "Processing Record 1 of Set 13 | Qamdo\n",
      "Processing Record 2 of Set 13 | Ziguinchor\n",
      "City not found. Skipping...\n",
      "City not found. Skipping...\n",
      "City not found. Skipping...\n",
      "Processing Record 1 of Set 16 | Flin Flon\n",
      "Processing Record 2 of Set 16 | Villarrica\n",
      "Processing Record 3 of Set 16 | Hadibu\n",
      "Processing Record 4 of Set 16 | Port Alfred\n",
      "Processing Record 5 of Set 16 | Kropotkin\n",
      "City not found. Skipping...\n",
      "Processing Record 1 of Set 17 | Alenquer\n",
      "Processing Record 2 of Set 17 | Kerikeri\n",
      "Processing Record 3 of Set 17 | Luderitz\n",
      "Processing Record 4 of Set 17 | Louang Namtha\n",
      "Processing Record 5 of Set 17 | Santiago\n",
      "Processing Record 6 of Set 17 | Buala\n",
      "Processing Record 7 of Set 17 | Okhotsk\n",
      "Processing Record 8 of Set 17 | Uummannaq\n",
      "Processing Record 9 of Set 17 | Sitka\n",
      "Processing Record 10 of Set 17 | Bengkulu\n",
      "Processing Record 11 of Set 17 | Boyarka\n",
      "Processing Record 12 of Set 17 | Ciudad Lazaro Cardenas\n",
      "Processing Record 13 of Set 17 | Ancud\n",
      "City not found. Skipping...\n",
      "Processing Record 1 of Set 18 | Waingapu\n",
      "Processing Record 2 of Set 18 | Altay\n",
      "City not found. Skipping...\n",
      "Processing Record 1 of Set 19 | Kapaa\n",
      "Processing Record 2 of Set 19 | Dzuunharaa\n",
      "Processing Record 3 of Set 19 | Sisimiut\n",
      "Processing Record 4 of Set 19 | Akrehamn\n",
      "Processing Record 5 of Set 19 | Rio Grande\n",
      "Processing Record 6 of Set 19 | Kavaratti\n",
      "Processing Record 7 of Set 19 | Vila Velha\n",
      "Processing Record 8 of Set 19 | Troitsk\n",
      "City not found. Skipping...\n",
      "City not found. Skipping...\n",
      "Processing Record 1 of Set 21 | Kambove\n",
      "Processing Record 2 of Set 21 | Dikson\n",
      "Processing Record 3 of Set 21 | Nova Sintra\n",
      "Processing Record 4 of Set 21 | Birao\n",
      "Processing Record 5 of Set 21 | Kalbarri\n",
      "Processing Record 6 of Set 21 | Navadwip\n",
      "Processing Record 7 of Set 21 | Lashkar Gah\n",
      "Processing Record 8 of Set 21 | Kalaheo\n",
      "Processing Record 9 of Set 21 | Jiayuguan\n",
      "Processing Record 10 of Set 21 | Punta Arenas\n",
      "Processing Record 11 of Set 21 | Khatanga\n",
      "Processing Record 12 of Set 21 | Hambantota\n",
      "Processing Record 13 of Set 21 | Balsas\n",
      "City not found. Skipping...\n",
      "Processing Record 1 of Set 22 | Bontang\n",
      "City not found. Skipping...\n",
      "City not found. Skipping...\n",
      "Processing Record 1 of Set 24 | Mathura\n",
      "Processing Record 2 of Set 24 | Alanya\n",
      "City not found. Skipping...\n",
      "Processing Record 1 of Set 25 | Abadla\n",
      "City not found. Skipping...\n",
      "Processing Record 1 of Set 26 | Guangyuan\n",
      "Processing Record 2 of Set 26 | Baruun-Urt\n",
      "Processing Record 3 of Set 26 | La Ronge\n",
      "Processing Record 4 of Set 26 | Durban\n",
      "Processing Record 5 of Set 26 | Jacareacanga\n",
      "Processing Record 6 of Set 26 | Virac\n",
      "Processing Record 7 of Set 26 | Kitale\n",
      "Processing Record 8 of Set 26 | Sangar\n",
      "Processing Record 9 of Set 26 | Huilong\n",
      "Processing Record 10 of Set 26 | Igarka\n",
      "Processing Record 11 of Set 26 | Ust'-Kamchatsk\n",
      "Processing Record 12 of Set 26 | Golfito\n",
      "Processing Record 13 of Set 26 | Santana\n",
      "Processing Record 14 of Set 26 | Port Shepstone\n",
      "Processing Record 15 of Set 26 | Avarua\n",
      "Processing Record 16 of Set 26 | Aleg\n",
      "Processing Record 17 of Set 26 | Chongqing\n",
      "Processing Record 18 of Set 26 | Dargaville\n",
      "Processing Record 19 of Set 26 | Pires do Rio\n",
      "Processing Record 20 of Set 26 | Sumbawanga\n",
      "Processing Record 21 of Set 26 | Vadso\n",
      "Processing Record 22 of Set 26 | Callao\n",
      "Processing Record 23 of Set 26 | Maina\n",
      "Processing Record 24 of Set 26 | Teeli\n",
      "Processing Record 25 of Set 26 | Bandundu\n",
      "Processing Record 26 of Set 26 | Brest\n",
      "Processing Record 27 of Set 26 | Capitol Hill\n",
      "Processing Record 28 of Set 26 | Noumea\n",
      "Processing Record 29 of Set 26 | Sigatoka\n",
      "Processing Record 30 of Set 26 | Ushuaia\n",
      "Processing Record 31 of Set 26 | Zyryanka\n",
      "Processing Record 32 of Set 26 | Taro\n",
      "Processing Record 33 of Set 26 | Ilulissat\n",
      "Processing Record 34 of Set 26 | Poronaysk\n",
      "Processing Record 35 of Set 26 | Asau\n",
      "City not found. Skipping...\n",
      "Processing Record 1 of Set 27 | Umba\n",
      "Processing Record 2 of Set 27 | Mezen\n",
      "Processing Record 3 of Set 27 | Dayan\n",
      "Processing Record 4 of Set 27 | Saldanha\n",
      "Processing Record 5 of Set 27 | Tralee\n",
      "Processing Record 6 of Set 27 | Te Anau\n",
      "Processing Record 7 of Set 27 | Weno\n",
      "Processing Record 8 of Set 27 | Windorah\n",
      "Processing Record 9 of Set 27 | Mesquite\n",
      "Processing Record 10 of Set 27 | Sassnitz\n",
      "Processing Record 11 of Set 27 | Pacific Grove\n",
      "Processing Record 12 of Set 27 | Rockport\n",
      "Processing Record 13 of Set 27 | Porto Amboim\n",
      "Processing Record 14 of Set 27 | Woodmoor\n",
      "Processing Record 15 of Set 27 | Jamestown\n",
      "Processing Record 16 of Set 27 | San Patricio\n",
      "Processing Record 17 of Set 27 | Alausi\n",
      "Processing Record 18 of Set 27 | Victoria\n",
      "Processing Record 19 of Set 27 | Oban\n",
      "Processing Record 20 of Set 27 | Chui\n",
      "Processing Record 21 of Set 27 | Katsuura\n",
      "Processing Record 22 of Set 27 | Serdar\n",
      "Processing Record 23 of Set 27 | Navojoa\n",
      "Processing Record 24 of Set 27 | Tobolsk\n"
     ]
    },
    {
     "name": "stdout",
     "output_type": "stream",
     "text": [
      "Processing Record 25 of Set 27 | Verona\n",
      "Processing Record 26 of Set 27 | Lompoc\n",
      "Processing Record 27 of Set 27 | An Nuhud\n",
      "Processing Record 28 of Set 27 | Theodore\n",
      "Processing Record 29 of Set 27 | Vilyuysk\n",
      "City not found. Skipping...\n",
      "Processing Record 1 of Set 28 | Omsukchan\n",
      "City not found. Skipping...\n",
      "Processing Record 1 of Set 29 | Fayroz Koh\n",
      "Processing Record 2 of Set 29 | Puerto Aysen\n",
      "Processing Record 3 of Set 29 | Karlstad\n",
      "Processing Record 4 of Set 29 | Bodaybo\n",
      "City not found. Skipping...\n",
      "Processing Record 1 of Set 30 | Kulusuk\n",
      "Processing Record 2 of Set 30 | Merimbula\n",
      "Processing Record 3 of Set 30 | Nordvik\n",
      "Processing Record 4 of Set 30 | Sambava\n",
      "Processing Record 5 of Set 30 | Bislig\n",
      "Processing Record 6 of Set 30 | Ocean Shores\n",
      "Processing Record 7 of Set 30 | Kleinmond\n",
      "Processing Record 8 of Set 30 | Mount Gambier\n",
      "Processing Record 9 of Set 30 | Balqash\n",
      "Processing Record 10 of Set 30 | Santa Ana de Yacuma\n",
      "Processing Record 11 of Set 30 | Tasiilaq\n",
      "Processing Record 12 of Set 30 | Church Point\n",
      "Processing Record 13 of Set 30 | Nadym\n",
      "City not found. Skipping...\n",
      "Processing Record 1 of Set 31 | Mahesana\n",
      "Processing Record 2 of Set 31 | Boulia\n",
      "Processing Record 3 of Set 31 | Atasu\n",
      "Processing Record 4 of Set 31 | Humahuaca\n",
      "City not found. Skipping...\n",
      "Processing Record 1 of Set 32 | Kampong Chhnang\n",
      "Processing Record 2 of Set 32 | Asha\n",
      "Processing Record 3 of Set 32 | Whitehorse\n",
      "Processing Record 4 of Set 32 | Tongliao\n",
      "City not found. Skipping...\n",
      "Processing Record 1 of Set 33 | Bilibino\n",
      "Processing Record 2 of Set 33 | Shintoku\n",
      "Processing Record 3 of Set 33 | Saint John's\n",
      "Processing Record 4 of Set 33 | Al Marj\n",
      "Processing Record 5 of Set 33 | Campos\n",
      "Processing Record 6 of Set 33 | Sabha\n",
      "Processing Record 7 of Set 33 | Holualoa\n",
      "Processing Record 8 of Set 33 | Hearst\n",
      "Processing Record 9 of Set 33 | Anchorage\n",
      "Processing Record 10 of Set 33 | La Esmeralda\n",
      "Processing Record 11 of Set 33 | Garoowe\n",
      "Processing Record 12 of Set 33 | Mariental\n",
      "City not found. Skipping...\n",
      "Processing Record 1 of Set 34 | Itaituba\n",
      "Processing Record 2 of Set 34 | Fortuna\n",
      "Processing Record 3 of Set 34 | Adrar\n",
      "Processing Record 4 of Set 34 | Tarakan\n",
      "Processing Record 5 of Set 34 | Les Iles-de-la-Madeleine\n",
      "Processing Record 6 of Set 34 | Lagos\n",
      "Processing Record 7 of Set 34 | Brasilia\n",
      "Processing Record 8 of Set 34 | Puntarenas\n",
      "Processing Record 9 of Set 34 | Kavieng\n",
      "Processing Record 10 of Set 34 | Killarney\n",
      "Processing Record 11 of Set 34 | Saugor\n",
      "Processing Record 12 of Set 34 | Wunstorf\n",
      "Processing Record 13 of Set 34 | Pleasanton\n",
      "Processing Record 14 of Set 34 | Freetown\n",
      "Processing Record 15 of Set 34 | Harper\n",
      "City not found. Skipping...\n",
      "Processing Record 1 of Set 35 | Tomah\n",
      "Processing Record 2 of Set 35 | Astravyets\n",
      "City not found. Skipping...\n",
      "City not found. Skipping...\n",
      "Processing Record 1 of Set 37 | Puerto Princesa\n",
      "Processing Record 2 of Set 37 | Jayapura\n",
      "Processing Record 3 of Set 37 | La Entrada\n",
      "Processing Record 4 of Set 37 | Spokane\n",
      "Processing Record 5 of Set 37 | Labrador City\n",
      "City not found. Skipping...\n",
      "Processing Record 1 of Set 38 | Cabo San Lucas\n",
      "City not found. Skipping...\n",
      "Processing Record 1 of Set 39 | Brockville\n",
      "Processing Record 2 of Set 39 | Marystown\n",
      "Processing Record 3 of Set 39 | Castro\n",
      "Processing Record 4 of Set 39 | Pacasmayo\n",
      "Processing Record 5 of Set 39 | Melenki\n",
      "Processing Record 6 of Set 39 | Orlu\n",
      "Processing Record 7 of Set 39 | Maroantsetra\n",
      "Processing Record 8 of Set 39 | Grand Falls\n",
      "Processing Record 9 of Set 39 | Sal Rei\n",
      "Processing Record 10 of Set 39 | Paraiso\n",
      "Processing Record 11 of Set 39 | Emerald\n",
      "Processing Record 12 of Set 39 | Vetluga\n",
      "Processing Record 13 of Set 39 | Ceiba\n",
      "City not found. Skipping...\n",
      "City not found. Skipping...\n",
      "Processing Record 1 of Set 41 | Nova Vicosa\n",
      "Processing Record 2 of Set 41 | Sergach\n",
      "Processing Record 3 of Set 41 | Fort Bragg\n",
      "Processing Record 4 of Set 41 | Saint-Benoit\n",
      "City not found. Skipping...\n",
      "Processing Record 1 of Set 42 | Haya\n",
      "Processing Record 2 of Set 42 | Imbituba\n",
      "Processing Record 3 of Set 42 | Mamburao\n",
      "Processing Record 4 of Set 42 | Palana\n",
      "Processing Record 5 of Set 42 | Oktyabrskiy\n",
      "Processing Record 6 of Set 42 | Obuase\n",
      "City not found. Skipping...\n",
      "Processing Record 1 of Set 43 | Acapulco de Juarez\n",
      "Processing Record 2 of Set 43 | Paamiut\n",
      "City not found. Skipping...\n",
      "Processing Record 1 of Set 44 | La Paloma\n",
      "Processing Record 2 of Set 44 | Ceduna\n",
      "Processing Record 3 of Set 44 | Nieuw Amsterdam\n",
      "City not found. Skipping...\n",
      "Processing Record 1 of Set 45 | Campbellton\n",
      "City not found. Skipping...\n",
      "Processing Record 1 of Set 46 | Rahimyar Khan\n",
      "Processing Record 2 of Set 46 | Mezhdurechensk\n",
      "Processing Record 3 of Set 46 | Kone\n",
      "Processing Record 4 of Set 46 | Yoichi\n",
      "City not found. Skipping...\n",
      "Processing Record 1 of Set 47 | Wick\n",
      "Processing Record 2 of Set 47 | Kilosa\n",
      "Processing Record 3 of Set 47 | Dholka\n",
      "City not found. Skipping...\n",
      "Processing Record 1 of Set 48 | Mahibadhoo\n",
      "Processing Record 2 of Set 48 | Panaba\n",
      "City not found. Skipping...\n",
      "Processing Record 1 of Set 49 | Peace River\n",
      "City not found. Skipping...\n",
      "Processing Record 1 of Set 50 | Reggane\n",
      "Processing Record 2 of Set 50 | Puerto Baquerizo Moreno\n",
      "Processing Record 3 of Set 50 | Tell City\n",
      "Processing Record 4 of Set 50 | Canada de Gomez\n",
      "Processing Record 5 of Set 50 | Bremerton\n",
      "Processing Record 6 of Set 50 | Iola\n",
      "Processing Record 7 of Set 50 | Bahia Honda\n",
      "Processing Record 8 of Set 50 | Exmouth\n",
      "City not found. Skipping...\n",
      "Processing Record 1 of Set 51 | Iwai\n",
      "Processing Record 2 of Set 51 | Xingyi\n",
      "City not found. Skipping...\n",
      "Processing Record 1 of Set 52 | Nassau\n",
      "Processing Record 2 of Set 52 | Kibiti\n",
      "Processing Record 3 of Set 52 | Olinda\n",
      "Processing Record 4 of Set 52 | Ormond-by-the-Sea\n",
      "Processing Record 5 of Set 52 | Ust'-Ilimsk\n",
      "Processing Record 6 of Set 52 | Pavlodar\n",
      "City not found. Skipping...\n",
      "City not found. Skipping...\n",
      "Processing Record 1 of Set 54 | Dryden\n",
      "Processing Record 2 of Set 54 | Wyndham\n",
      "Processing Record 3 of Set 54 | Lhasa\n",
      "Processing Record 4 of Set 54 | Cayenne\n",
      "Processing Record 5 of Set 54 | Manteo\n",
      "City not found. Skipping...\n",
      "City not found. Skipping...\n",
      "Processing Record 1 of Set 56 | Biak\n",
      "Processing Record 2 of Set 56 | Tidjikja\n",
      "Processing Record 3 of Set 56 | Lavrentiya\n",
      "Processing Record 4 of Set 56 | Aldan\n",
      "Processing Record 5 of Set 56 | Capljina\n",
      "Processing Record 6 of Set 56 | Prairie du Chien\n",
      "Processing Record 7 of Set 56 | Camocim\n",
      "Processing Record 8 of Set 56 | Huarmey\n",
      "Processing Record 9 of Set 56 | Bangalore\n",
      "Processing Record 10 of Set 56 | Orel\n",
      "Processing Record 11 of Set 56 | Weihai\n",
      "Processing Record 12 of Set 56 | Cannonvale\n",
      "Processing Record 13 of Set 56 | Thinadhoo\n",
      "Processing Record 14 of Set 56 | Viana do Castelo\n",
      "City not found. Skipping...\n",
      "Processing Record 1 of Set 57 | Lethem\n",
      "Processing Record 2 of Set 57 | Gornozavodsk\n",
      "Processing Record 3 of Set 57 | Haiku-Pauwela\n",
      "Processing Record 4 of Set 57 | Jaynagar-Majilpur\n",
      "Processing Record 5 of Set 57 | Lata\n",
      "Processing Record 6 of Set 57 | Keflavik\n",
      "City not found. Skipping...\n",
      "City not found. Skipping...\n",
      "Processing Record 1 of Set 59 | Brookings\n",
      "Processing Record 2 of Set 59 | Sinnamary\n",
      "Processing Record 3 of Set 59 | Ghanzi\n",
      "Processing Record 4 of Set 59 | Prince Rupert\n",
      "Processing Record 5 of Set 59 | Praya\n",
      "Processing Record 6 of Set 59 | Kulebaki\n",
      "Processing Record 7 of Set 59 | Funafuti\n",
      "Processing Record 8 of Set 59 | Ciudad Victoria\n",
      "Processing Record 9 of Set 59 | Neiafu\n",
      "Processing Record 10 of Set 59 | Saskylakh\n",
      "Processing Record 11 of Set 59 | La Sarre\n",
      "Processing Record 12 of Set 59 | Kaitaia\n",
      "City not found. Skipping...\n",
      "Processing Record 1 of Set 60 | La Asuncion\n",
      "Processing Record 2 of Set 60 | Camabatela\n",
      "Processing Record 3 of Set 60 | Whitby\n",
      "Processing Record 4 of Set 60 | Deschutes River Woods\n",
      "Processing Record 5 of Set 60 | Zhoushan\n",
      "Processing Record 6 of Set 60 | Meru\n",
      "City not found. Skipping...\n",
      "Processing Record 1 of Set 61 | Zhangshu\n",
      "Processing Record 2 of Set 61 | New Plymouth\n",
      "City not found. Skipping...\n",
      "City not found. Skipping...\n",
      "Processing Record 1 of Set 63 | Canoinhas\n",
      "Processing Record 2 of Set 63 | Chernyshevskiy\n",
      "Processing Record 3 of Set 63 | Fujin\n",
      "Processing Record 4 of Set 63 | Gander\n",
      "City not found. Skipping...\n",
      "Processing Record 1 of Set 64 | Yakutsk\n"
     ]
    },
    {
     "name": "stdout",
     "output_type": "stream",
     "text": [
      "Processing Record 2 of Set 64 | Birdsville\n",
      "Processing Record 3 of Set 64 | Ust'-Ordynskiy\n",
      "Processing Record 4 of Set 64 | Qift\n",
      "Processing Record 5 of Set 64 | Al Ghardaqah\n",
      "Processing Record 6 of Set 64 | Sekondi\n",
      "Processing Record 7 of Set 64 | Sawahlunto\n",
      "Processing Record 8 of Set 64 | Udachnyy\n",
      "Processing Record 9 of Set 64 | Manta\n",
      "Processing Record 10 of Set 64 | Sumbe\n",
      "Processing Record 11 of Set 64 | Nefteyugansk\n",
      "Processing Record 12 of Set 64 | Ochi\n",
      "Processing Record 13 of Set 64 | Cholpon-Ata\n",
      "Processing Record 14 of Set 64 | Ufa\n",
      "Processing Record 15 of Set 64 | Carnarvon\n",
      "Processing Record 16 of Set 64 | Basseterre\n",
      "Processing Record 17 of Set 64 | Sola\n",
      "Processing Record 18 of Set 64 | Cacheu\n",
      "Processing Record 19 of Set 64 | Anadyr\n",
      "Processing Record 20 of Set 64 | Vendas Novas\n",
      "Processing Record 21 of Set 64 | Guarapuava\n",
      "City not found. Skipping...\n",
      "Processing Record 1 of Set 65 | Faya\n",
      "Processing Record 2 of Set 65 | Fuzhou\n",
      "Processing Record 3 of Set 65 | Selfoss\n",
      "City not found. Skipping...\n",
      "Processing Record 1 of Set 66 | Kapuskasing\n",
      "Processing Record 2 of Set 66 | Swan Hill\n",
      "Processing Record 3 of Set 66 | Le Grand-Quevilly\n",
      "Processing Record 4 of Set 66 | Amagi\n",
      "Processing Record 5 of Set 66 | Port Saint John's\n",
      "Processing Record 6 of Set 66 | Halifax\n",
      "City not found. Skipping...\n",
      "Processing Record 1 of Set 67 | Norilsk\n",
      "Processing Record 2 of Set 67 | Zaslawye\n",
      "Processing Record 3 of Set 67 | Chibougamau\n",
      "Processing Record 4 of Set 67 | Al Muharraq\n",
      "Processing Record 5 of Set 67 | Kerman\n",
      "Processing Record 6 of Set 67 | Bir Mogrein\n",
      "Processing Record 7 of Set 67 | Toamasina\n",
      "Processing Record 8 of Set 67 | Pokrovsk\n",
      "City not found. Skipping...\n",
      "Processing Record 1 of Set 68 | Chumikan\n",
      "Processing Record 2 of Set 68 | Moyale\n",
      "Processing Record 3 of Set 68 | Caracarai\n",
      "Processing Record 4 of Set 68 | Mount Shasta\n",
      "City not found. Skipping...\n",
      "Processing Record 1 of Set 69 | Scarborough\n",
      "Processing Record 2 of Set 69 | Sechura\n",
      "Processing Record 3 of Set 69 | Page\n",
      "Processing Record 4 of Set 69 | Kuji\n",
      "Processing Record 5 of Set 69 | Aquidauana\n",
      "Processing Record 6 of Set 69 | Mae Hong Son\n",
      "Processing Record 7 of Set 69 | Petrovsk-Zabaykal'skiy\n",
      "Processing Record 8 of Set 69 | Laie\n",
      "City not found. Skipping...\n",
      "Processing Record 1 of Set 70 | Bejaia\n",
      "Processing Record 2 of Set 70 | Quellon\n",
      "City not found. Skipping...\n",
      "Processing Record 1 of Set 71 | Sydney\n",
      "Processing Record 2 of Set 71 | Al Jawf\n",
      "City not found. Skipping...\n",
      "Processing Record 1 of Set 72 | Praia da Vitoria\n",
      "Processing Record 2 of Set 72 | Miandrivazo\n",
      "Processing Record 3 of Set 72 | Gijon\n",
      "Processing Record 4 of Set 72 | Lodja\n",
      "Processing Record 5 of Set 72 | Pelotas\n",
      "Processing Record 6 of Set 72 | Noginsk\n",
      "Processing Record 7 of Set 72 | Bridgetown\n",
      "Processing Record 8 of Set 72 | Steamboat Springs\n",
      "Processing Record 9 of Set 72 | Hoskins\n",
      "Processing Record 10 of Set 72 | Vasylivka\n",
      "Processing Record 11 of Set 72 | Timaru\n",
      "City not found. Skipping...\n",
      "City not found. Skipping...\n",
      "Processing Record 1 of Set 74 | Nantucket\n",
      "City not found. Skipping...\n",
      "Processing Record 1 of Set 75 | Blitar\n",
      "City not found. Skipping...\n",
      "City not found. Skipping...\n",
      "Processing Record 1 of Set 77 | Zapala\n",
      "Processing Record 2 of Set 77 | Jabalpur\n",
      "Processing Record 3 of Set 77 | Smithers\n",
      "Processing Record 4 of Set 77 | Kota Kinabalu\n",
      "Processing Record 5 of Set 77 | Santa Cruz\n",
      "Processing Record 6 of Set 77 | Krasnokamensk\n",
      "Processing Record 7 of Set 77 | Ifakara\n",
      "City not found. Skipping...\n",
      "Processing Record 1 of Set 78 | Uberlandia\n",
      "Processing Record 2 of Set 78 | Vishakhapatnam\n",
      "Processing Record 3 of Set 78 | Zolote\n",
      "Processing Record 4 of Set 78 | Polyarnyy\n",
      "Processing Record 5 of Set 78 | Salinopolis\n",
      "Processing Record 6 of Set 78 | Palu\n",
      "City not found. Skipping...\n",
      "Processing Record 1 of Set 79 | Zamora\n",
      "Processing Record 2 of Set 79 | Pisco\n",
      "Processing Record 3 of Set 79 | Jamay\n",
      "Processing Record 4 of Set 79 | Marsh Harbour\n",
      "Processing Record 5 of Set 79 | Wanaka\n",
      "Processing Record 6 of Set 79 | Barcelos\n",
      "Processing Record 7 of Set 79 | Shilka\n",
      "Processing Record 8 of Set 79 | Kamina\n",
      "Processing Record 9 of Set 79 | Johor Bahru\n",
      "Processing Record 10 of Set 79 | Zillah\n",
      "Processing Record 11 of Set 79 | Luganville\n",
      "Processing Record 12 of Set 79 | Kinkala\n",
      "-----------------------------\n",
      "Data Retrieval Complete      \n",
      "-----------------------------\n"
     ]
    }
   ],
   "source": [
    "print('''Beginning Data Retrieval     \n",
    "-----------------------------''')\n",
    "\n",
    "url = \"http://api.openweathermap.org/data/2.5/weather?\"\n",
    "record_num = 0\n",
    "set_num = 1\n",
    "city_info = []\n",
    "\n",
    "for city in cities:\n",
    "    query_url = url + \"appid=\" + weather_api_key + \"&q=\" + city + \"&units=\" + \"imperial\" \n",
    "    weather_response = requests.get(query_url)\n",
    "    weather_json = weather_response.json()\n",
    "    \n",
    "    try:\n",
    "        record_num += 1\n",
    "        latitude = weather_json[\"coord\"][\"lat\"]\n",
    "        temperature = weather_json[\"main\"][\"temp\"]\n",
    "        max_temp = weather_json[\"main\"][\"temp_max\"]\n",
    "        min_temp = weather_json[\"main\"][\"temp_min\"]\n",
    "        humidity = weather_json[\"main\"][\"humidity\"]\n",
    "        cloudiness = weather_json[\"clouds\"][\"all\"]\n",
    "        wind_speed = weather_json[\"wind\"][\"speed\"]\n",
    "        longitude = weather_json[\"coord\"][\"lon\"]\n",
    "        city_info.append({\"Name\": city, \"Latitude\": latitude,\"Longitude\": longitude, \"Temperature (F)\": temperature,\"Maximum Temperature(F)\": max_temp, \"Minimum Temperature(F)\": min_temp, \"Humidity (%)\": humidity, \n",
    "                          \"Cloudiness (%)\": cloudiness, \"Wind Speed (mph)\": wind_speed})\n",
    "        print(f\"Processing Record {record_num} of Set {set_num} | {city}\")\n",
    "    \n",
    "    except KeyError: \n",
    "        cities.remove(city)\n",
    "        record_num = 0\n",
    "        set_num += 1\n",
    "        print(\"City not found. Skipping...\")\n",
    "        pass\n",
    "    \n",
    "print('''-----------------------------\n",
    "Data Retrieval Complete      \n",
    "-----------------------------''')"
   ]
  },
  {
   "cell_type": "markdown",
   "metadata": {},
   "source": [
    "### Convert Raw Data to DataFrame\n",
    "* Export the city data into a .csv.\n",
    "* Display the DataFrame"
   ]
  },
  {
   "cell_type": "code",
   "execution_count": 4,
   "metadata": {},
   "outputs": [],
   "source": [
    "weather_df = pd.DataFrame(city_info)"
   ]
  },
  {
   "cell_type": "code",
   "execution_count": 5,
   "metadata": {},
   "outputs": [],
   "source": [
    "weather_df.to_csv(\"Output/cities.csv\")"
   ]
  },
  {
   "cell_type": "code",
   "execution_count": 6,
   "metadata": {},
   "outputs": [
    {
     "data": {
      "text/html": [
       "<div>\n",
       "<style scoped>\n",
       "    .dataframe tbody tr th:only-of-type {\n",
       "        vertical-align: middle;\n",
       "    }\n",
       "\n",
       "    .dataframe tbody tr th {\n",
       "        vertical-align: top;\n",
       "    }\n",
       "\n",
       "    .dataframe thead th {\n",
       "        text-align: right;\n",
       "    }\n",
       "</style>\n",
       "<table border=\"1\" class=\"dataframe\">\n",
       "  <thead>\n",
       "    <tr style=\"text-align: right;\">\n",
       "      <th></th>\n",
       "      <th>Name</th>\n",
       "      <th>Latitude</th>\n",
       "      <th>Longitude</th>\n",
       "      <th>Temperature (F)</th>\n",
       "      <th>Maximum Temperature(F)</th>\n",
       "      <th>Minimum Temperature(F)</th>\n",
       "      <th>Humidity (%)</th>\n",
       "      <th>Cloudiness (%)</th>\n",
       "      <th>Wind Speed (mph)</th>\n",
       "    </tr>\n",
       "  </thead>\n",
       "  <tbody>\n",
       "    <tr>\n",
       "      <th>0</th>\n",
       "      <td>Mistassini</td>\n",
       "      <td>48.89</td>\n",
       "      <td>-72.20</td>\n",
       "      <td>27.72</td>\n",
       "      <td>30.20</td>\n",
       "      <td>26.60</td>\n",
       "      <td>92</td>\n",
       "      <td>90</td>\n",
       "      <td>16.11</td>\n",
       "    </tr>\n",
       "    <tr>\n",
       "      <th>1</th>\n",
       "      <td>Edinburgh of the Seven Seas</td>\n",
       "      <td>-37.07</td>\n",
       "      <td>-12.31</td>\n",
       "      <td>52.56</td>\n",
       "      <td>52.56</td>\n",
       "      <td>52.56</td>\n",
       "      <td>80</td>\n",
       "      <td>18</td>\n",
       "      <td>17.13</td>\n",
       "    </tr>\n",
       "    <tr>\n",
       "      <th>2</th>\n",
       "      <td>Hawaiian Paradise Park</td>\n",
       "      <td>19.59</td>\n",
       "      <td>-154.97</td>\n",
       "      <td>73.42</td>\n",
       "      <td>77.00</td>\n",
       "      <td>68.00</td>\n",
       "      <td>83</td>\n",
       "      <td>90</td>\n",
       "      <td>11.41</td>\n",
       "    </tr>\n",
       "    <tr>\n",
       "      <th>3</th>\n",
       "      <td>Torbay</td>\n",
       "      <td>47.67</td>\n",
       "      <td>-52.73</td>\n",
       "      <td>30.16</td>\n",
       "      <td>32.00</td>\n",
       "      <td>28.40</td>\n",
       "      <td>79</td>\n",
       "      <td>40</td>\n",
       "      <td>8.05</td>\n",
       "    </tr>\n",
       "    <tr>\n",
       "      <th>4</th>\n",
       "      <td>Yellowknife</td>\n",
       "      <td>62.46</td>\n",
       "      <td>-114.35</td>\n",
       "      <td>8.20</td>\n",
       "      <td>8.60</td>\n",
       "      <td>8.01</td>\n",
       "      <td>84</td>\n",
       "      <td>90</td>\n",
       "      <td>16.11</td>\n",
       "    </tr>\n",
       "    <tr>\n",
       "      <th>5</th>\n",
       "      <td>Quelimane</td>\n",
       "      <td>-17.88</td>\n",
       "      <td>36.89</td>\n",
       "      <td>80.29</td>\n",
       "      <td>80.60</td>\n",
       "      <td>80.01</td>\n",
       "      <td>88</td>\n",
       "      <td>20</td>\n",
       "      <td>14.99</td>\n",
       "    </tr>\n",
       "    <tr>\n",
       "      <th>6</th>\n",
       "      <td>Dunedin</td>\n",
       "      <td>-45.87</td>\n",
       "      <td>170.50</td>\n",
       "      <td>54.00</td>\n",
       "      <td>54.00</td>\n",
       "      <td>54.00</td>\n",
       "      <td>66</td>\n",
       "      <td>18</td>\n",
       "      <td>28.99</td>\n",
       "    </tr>\n",
       "    <tr>\n",
       "      <th>7</th>\n",
       "      <td>Hanga Roa</td>\n",
       "      <td>-27.15</td>\n",
       "      <td>-109.43</td>\n",
       "      <td>69.80</td>\n",
       "      <td>69.80</td>\n",
       "      <td>69.80</td>\n",
       "      <td>56</td>\n",
       "      <td>75</td>\n",
       "      <td>16.11</td>\n",
       "    </tr>\n",
       "    <tr>\n",
       "      <th>8</th>\n",
       "      <td>Aweil</td>\n",
       "      <td>8.77</td>\n",
       "      <td>27.40</td>\n",
       "      <td>76.77</td>\n",
       "      <td>76.77</td>\n",
       "      <td>76.77</td>\n",
       "      <td>31</td>\n",
       "      <td>73</td>\n",
       "      <td>2.91</td>\n",
       "    </tr>\n",
       "    <tr>\n",
       "      <th>9</th>\n",
       "      <td>Acarau</td>\n",
       "      <td>-2.89</td>\n",
       "      <td>-40.12</td>\n",
       "      <td>80.71</td>\n",
       "      <td>80.71</td>\n",
       "      <td>80.71</td>\n",
       "      <td>74</td>\n",
       "      <td>92</td>\n",
       "      <td>15.75</td>\n",
       "    </tr>\n",
       "  </tbody>\n",
       "</table>\n",
       "</div>"
      ],
      "text/plain": [
       "                          Name  Latitude  Longitude  Temperature (F)  \\\n",
       "0                   Mistassini     48.89     -72.20            27.72   \n",
       "1  Edinburgh of the Seven Seas    -37.07     -12.31            52.56   \n",
       "2       Hawaiian Paradise Park     19.59    -154.97            73.42   \n",
       "3                       Torbay     47.67     -52.73            30.16   \n",
       "4                  Yellowknife     62.46    -114.35             8.20   \n",
       "5                    Quelimane    -17.88      36.89            80.29   \n",
       "6                      Dunedin    -45.87     170.50            54.00   \n",
       "7                    Hanga Roa    -27.15    -109.43            69.80   \n",
       "8                        Aweil      8.77      27.40            76.77   \n",
       "9                       Acarau     -2.89     -40.12            80.71   \n",
       "\n",
       "   Maximum Temperature(F)  Minimum Temperature(F)  Humidity (%)  \\\n",
       "0                   30.20                   26.60            92   \n",
       "1                   52.56                   52.56            80   \n",
       "2                   77.00                   68.00            83   \n",
       "3                   32.00                   28.40            79   \n",
       "4                    8.60                    8.01            84   \n",
       "5                   80.60                   80.01            88   \n",
       "6                   54.00                   54.00            66   \n",
       "7                   69.80                   69.80            56   \n",
       "8                   76.77                   76.77            31   \n",
       "9                   80.71                   80.71            74   \n",
       "\n",
       "   Cloudiness (%)  Wind Speed (mph)  \n",
       "0              90             16.11  \n",
       "1              18             17.13  \n",
       "2              90             11.41  \n",
       "3              40              8.05  \n",
       "4              90             16.11  \n",
       "5              20             14.99  \n",
       "6              18             28.99  \n",
       "7              75             16.11  \n",
       "8              73              2.91  \n",
       "9              92             15.75  "
      ]
     },
     "execution_count": 6,
     "metadata": {},
     "output_type": "execute_result"
    }
   ],
   "source": [
    "# Display the top 5-10 values of the dataframe\n",
    "weather_df.head(10)"
   ]
  },
  {
   "cell_type": "code",
   "execution_count": 7,
   "metadata": {
    "scrolled": true
   },
   "outputs": [
    {
     "data": {
      "text/html": [
       "<div>\n",
       "<style scoped>\n",
       "    .dataframe tbody tr th:only-of-type {\n",
       "        vertical-align: middle;\n",
       "    }\n",
       "\n",
       "    .dataframe tbody tr th {\n",
       "        vertical-align: top;\n",
       "    }\n",
       "\n",
       "    .dataframe thead th {\n",
       "        text-align: right;\n",
       "    }\n",
       "</style>\n",
       "<table border=\"1\" class=\"dataframe\">\n",
       "  <thead>\n",
       "    <tr style=\"text-align: right;\">\n",
       "      <th></th>\n",
       "      <th>Name</th>\n",
       "      <th>Latitude</th>\n",
       "      <th>Longitude</th>\n",
       "      <th>Temperature (F)</th>\n",
       "      <th>Maximum Temperature(F)</th>\n",
       "      <th>Minimum Temperature(F)</th>\n",
       "      <th>Humidity (%)</th>\n",
       "      <th>Cloudiness (%)</th>\n",
       "      <th>Wind Speed (mph)</th>\n",
       "    </tr>\n",
       "  </thead>\n",
       "  <tbody>\n",
       "    <tr>\n",
       "      <th>0</th>\n",
       "      <td>Mistassini</td>\n",
       "      <td>48.89</td>\n",
       "      <td>-72.20</td>\n",
       "      <td>27.72</td>\n",
       "      <td>30.20</td>\n",
       "      <td>26.60</td>\n",
       "      <td>92</td>\n",
       "      <td>90</td>\n",
       "      <td>16.11</td>\n",
       "    </tr>\n",
       "    <tr>\n",
       "      <th>1</th>\n",
       "      <td>Edinburgh of the Seven Seas</td>\n",
       "      <td>-37.07</td>\n",
       "      <td>-12.31</td>\n",
       "      <td>52.56</td>\n",
       "      <td>52.56</td>\n",
       "      <td>52.56</td>\n",
       "      <td>80</td>\n",
       "      <td>18</td>\n",
       "      <td>17.13</td>\n",
       "    </tr>\n",
       "    <tr>\n",
       "      <th>2</th>\n",
       "      <td>Hawaiian Paradise Park</td>\n",
       "      <td>19.59</td>\n",
       "      <td>-154.97</td>\n",
       "      <td>73.42</td>\n",
       "      <td>77.00</td>\n",
       "      <td>68.00</td>\n",
       "      <td>83</td>\n",
       "      <td>90</td>\n",
       "      <td>11.41</td>\n",
       "    </tr>\n",
       "    <tr>\n",
       "      <th>3</th>\n",
       "      <td>Torbay</td>\n",
       "      <td>47.67</td>\n",
       "      <td>-52.73</td>\n",
       "      <td>30.16</td>\n",
       "      <td>32.00</td>\n",
       "      <td>28.40</td>\n",
       "      <td>79</td>\n",
       "      <td>40</td>\n",
       "      <td>8.05</td>\n",
       "    </tr>\n",
       "    <tr>\n",
       "      <th>4</th>\n",
       "      <td>Yellowknife</td>\n",
       "      <td>62.46</td>\n",
       "      <td>-114.35</td>\n",
       "      <td>8.20</td>\n",
       "      <td>8.60</td>\n",
       "      <td>8.01</td>\n",
       "      <td>84</td>\n",
       "      <td>90</td>\n",
       "      <td>16.11</td>\n",
       "    </tr>\n",
       "    <tr>\n",
       "      <th>5</th>\n",
       "      <td>Quelimane</td>\n",
       "      <td>-17.88</td>\n",
       "      <td>36.89</td>\n",
       "      <td>80.29</td>\n",
       "      <td>80.60</td>\n",
       "      <td>80.01</td>\n",
       "      <td>88</td>\n",
       "      <td>20</td>\n",
       "      <td>14.99</td>\n",
       "    </tr>\n",
       "    <tr>\n",
       "      <th>6</th>\n",
       "      <td>Dunedin</td>\n",
       "      <td>-45.87</td>\n",
       "      <td>170.50</td>\n",
       "      <td>54.00</td>\n",
       "      <td>54.00</td>\n",
       "      <td>54.00</td>\n",
       "      <td>66</td>\n",
       "      <td>18</td>\n",
       "      <td>28.99</td>\n",
       "    </tr>\n",
       "    <tr>\n",
       "      <th>7</th>\n",
       "      <td>Hanga Roa</td>\n",
       "      <td>-27.15</td>\n",
       "      <td>-109.43</td>\n",
       "      <td>69.80</td>\n",
       "      <td>69.80</td>\n",
       "      <td>69.80</td>\n",
       "      <td>56</td>\n",
       "      <td>75</td>\n",
       "      <td>16.11</td>\n",
       "    </tr>\n",
       "    <tr>\n",
       "      <th>8</th>\n",
       "      <td>Aweil</td>\n",
       "      <td>8.77</td>\n",
       "      <td>27.40</td>\n",
       "      <td>76.77</td>\n",
       "      <td>76.77</td>\n",
       "      <td>76.77</td>\n",
       "      <td>31</td>\n",
       "      <td>73</td>\n",
       "      <td>2.91</td>\n",
       "    </tr>\n",
       "    <tr>\n",
       "      <th>9</th>\n",
       "      <td>Acarau</td>\n",
       "      <td>-2.89</td>\n",
       "      <td>-40.12</td>\n",
       "      <td>80.71</td>\n",
       "      <td>80.71</td>\n",
       "      <td>80.71</td>\n",
       "      <td>74</td>\n",
       "      <td>92</td>\n",
       "      <td>15.75</td>\n",
       "    </tr>\n",
       "  </tbody>\n",
       "</table>\n",
       "</div>"
      ],
      "text/plain": [
       "                          Name  Latitude  Longitude  Temperature (F)  \\\n",
       "0                   Mistassini     48.89     -72.20            27.72   \n",
       "1  Edinburgh of the Seven Seas    -37.07     -12.31            52.56   \n",
       "2       Hawaiian Paradise Park     19.59    -154.97            73.42   \n",
       "3                       Torbay     47.67     -52.73            30.16   \n",
       "4                  Yellowknife     62.46    -114.35             8.20   \n",
       "5                    Quelimane    -17.88      36.89            80.29   \n",
       "6                      Dunedin    -45.87     170.50            54.00   \n",
       "7                    Hanga Roa    -27.15    -109.43            69.80   \n",
       "8                        Aweil      8.77      27.40            76.77   \n",
       "9                       Acarau     -2.89     -40.12            80.71   \n",
       "\n",
       "   Maximum Temperature(F)  Minimum Temperature(F)  Humidity (%)  \\\n",
       "0                   30.20                   26.60            92   \n",
       "1                   52.56                   52.56            80   \n",
       "2                   77.00                   68.00            83   \n",
       "3                   32.00                   28.40            79   \n",
       "4                    8.60                    8.01            84   \n",
       "5                   80.60                   80.01            88   \n",
       "6                   54.00                   54.00            66   \n",
       "7                   69.80                   69.80            56   \n",
       "8                   76.77                   76.77            31   \n",
       "9                   80.71                   80.71            74   \n",
       "\n",
       "   Cloudiness (%)  Wind Speed (mph)  \n",
       "0              90             16.11  \n",
       "1              18             17.13  \n",
       "2              90             11.41  \n",
       "3              40              8.05  \n",
       "4              90             16.11  \n",
       "5              20             14.99  \n",
       "6              18             28.99  \n",
       "7              75             16.11  \n",
       "8              73              2.91  \n",
       "9              92             15.75  "
      ]
     },
     "execution_count": 7,
     "metadata": {},
     "output_type": "execute_result"
    }
   ],
   "source": [
    "# Filtering data to remove \"outliers\" (Values greater than 100%)\n",
    "weather_df = weather_df[weather_df[\"Humidity (%)\"] <= 100]\n",
    "weather_df.head(10)"
   ]
  },
  {
   "cell_type": "markdown",
   "metadata": {},
   "source": [
    "## Inspect the data and remove the cities where the humidity > 100%.\n",
    "----\n",
    "Skip this step if there are no cities that have humidity > 100%. "
   ]
  },
  {
   "cell_type": "code",
   "execution_count": null,
   "metadata": {},
   "outputs": [],
   "source": []
  },
  {
   "cell_type": "code",
   "execution_count": null,
   "metadata": {},
   "outputs": [],
   "source": [
    "#  Get the indices of cities that have humidity over 100%.\n"
   ]
  },
  {
   "cell_type": "code",
   "execution_count": null,
   "metadata": {},
   "outputs": [],
   "source": [
    "# Make a new DataFrame equal to the city data to drop all humidity outliers by index.\n",
    "# Passing \"inplace=False\" will make a copy of the city_data DataFrame, which we call \"clean_city_data\".\n"
   ]
  },
  {
   "cell_type": "code",
   "execution_count": null,
   "metadata": {},
   "outputs": [],
   "source": [
    "\n"
   ]
  },
  {
   "cell_type": "markdown",
   "metadata": {},
   "source": [
    "## Plotting the Data\n",
    "* Use proper labeling of the plots using plot titles (including date of analysis) and axes labels.\n",
    "* Save the plotted figures as .pngs."
   ]
  },
  {
   "cell_type": "markdown",
   "metadata": {},
   "source": [
    "## Latitude vs. Temperature Plot"
   ]
  },
  {
   "cell_type": "code",
   "execution_count": 8,
   "metadata": {
    "scrolled": true
   },
   "outputs": [
    {
     "data": {
      "image/png": "[encoded data removed]",
      "text/plain": [
       "<Figure size 432x288 with 1 Axes>"
      ]
     },
     "metadata": {
      "needs_background": "light"
     },
     "output_type": "display_data"
    }
   ],
   "source": [
    "#Create Latitude vs. Temperature Scatter plot \n",
    "weather_df.plot.scatter(x = \"Latitude\", y = \"Temperature (F)\", color = \"blue\", \n",
    "                        alpha = 0.75, edgecolors = \"k\", linewidths = 1)\n",
    "plt.grid()\n",
    "plt.title(\"Latitude vs. Temperature (9/28/2018)\")\n",
    "plt.savefig(\"Images/Latitude vs. Temperature.png\")\n",
    "plt.show()"
   ]
  },
  {
   "cell_type": "markdown",
   "metadata": {},
   "source": [
    "## Latitude vs. Humidity Plot"
   ]
  },
  {
   "cell_type": "code",
   "execution_count": 9,
   "metadata": {},
   "outputs": [
    {
     "data": {
      "image/png": "[encoded data removed]",
      "text/plain": [
       "<Figure size 432x288 with 1 Axes>"
      ]
     },
     "metadata": {
      "needs_background": "light"
     },
     "output_type": "display_data"
    }
   ],
   "source": [
    "#Create Latitude vs Humidity scatter plot \n",
    "weather_df.plot.scatter(x = \"Latitude\", y = \"Humidity (%)\", color = \"coral\", \n",
    "                        alpha = 0.75, edgecolors = \"k\", linewidths = 1)\n",
    "plt.grid()\n",
    "plt.title(\"Latitude vs. Humidity (9/28/2018)\")\n",
    "plt.savefig(\"Images/Latitude vs. Humidity.png\")\n",
    "plt.show()"
   ]
  },
  {
   "cell_type": "markdown",
   "metadata": {},
   "source": [
    "## Latitude vs. Cloudiness Plot"
   ]
  },
  {
   "cell_type": "code",
   "execution_count": 10,
   "metadata": {},
   "outputs": [
    {
     "data": {
      "image/png": "[encoded data removed]",
      "text/plain": [
       "<Figure size 432x288 with 1 Axes>"
      ]
     },
     "metadata": {
      "needs_background": "light"
     },
     "output_type": "display_data"
    }
   ],
   "source": [
    "# Create Latitude vs. Cloudiness Plot scatter plot\n",
    "weather_df.plot.scatter(x = \"Latitude\", y = \"Cloudiness (%)\", color = \"red\", \n",
    "                        alpha = 0.75, edgecolors = \"k\", linewidths = 1)\n",
    "plt.grid()\n",
    "plt.title(\"City Latitude vs. Cloudiness (9/28/2018)\")\n",
    "plt.savefig(\"Images/Latitude vs. Cloudiness.png\")\n",
    "plt.show()"
   ]
  },
  {
   "cell_type": "markdown",
   "metadata": {},
   "source": [
    "## Latitude vs. Wind Speed Plot"
   ]
  },
  {
   "cell_type": "code",
   "execution_count": 11,
   "metadata": {},
   "outputs": [
    {
     "data": {
      "image/png": "[encoded data removed]",
      "text/plain": [
       "<Figure size 432x288 with 1 Axes>"
      ]
     },
     "metadata": {
      "needs_background": "light"
     },
     "output_type": "display_data"
    }
   ],
   "source": [
    "# Create Latitude vs. Wind Speed scatter plot\n",
    "weather_df.plot.scatter(x = \"Latitude\", y = \"Wind Speed (mph)\", color = \"green\", \n",
    "                        alpha = 0.75, edgecolors = \"k\", linewidths = 1)\n",
    "plt.grid()\n",
    "plt.title(\"Latitude vs. Wind Speed (9/28/2018)\")\n",
    "plt.savefig(\"Images/Latitude vs. Wind Speed.png\")\n",
    "plt.show()"
   ]
  },
  {
   "cell_type": "markdown",
   "metadata": {},
   "source": [
    "## Linear Regression"
   ]
  },
  {
   "cell_type": "code",
   "execution_count": 12,
   "metadata": {},
   "outputs": [],
   "source": [
    "# Create Northern and Southern Hemisphere DataFrames\n",
    "northern_hemisphere = weather_df.loc[weather_df[\"Latitude\"] >= 0]\n",
    "southern_hemisphere = weather_df.loc[weather_df[\"Latitude\"] < 0]\n"
   ]
  },
  {
   "cell_type": "code",
   "execution_count": 13,
   "metadata": {},
   "outputs": [],
   "source": [
    "# Define function for creating linear agression and scatter plot\n",
    "def linear_reg_plot(x_values,y_values):\n",
    "    (slope, intercept, rvalue, pvalue, stderr) = linregress(x_values, y_values)\n",
    "    regress_values = x_values * slope + intercept\n",
    "    line_eq = \"y = \" + str(round(slope,2)) + \"x + \" + str(round(intercept,2))\n",
    "    plt.scatter(x_values,y_values)\n",
    "    plt.plot(x_values,regress_values,\"r-\")\n",
    "    plt.annotate(line_eq,(x_values.median(),y_values.median()),fontsize=15,color=\"red\")\n",
    "    plt.xlabel(\"Latitude\")\n",
    "    print(f\"The r-squared is: {rvalue}\")\n",
    "    plt.show()"
   ]
  },
  {
   "cell_type": "markdown",
   "metadata": {},
   "source": [
    "####  Northern Hemisphere - Max Temp vs. Latitude Linear Regression"
   ]
  },
  {
   "cell_type": "code",
   "execution_count": 14,
   "metadata": {},
   "outputs": [
    {
     "name": "stdout",
     "output_type": "stream",
     "text": [
      "The r-squared is: -0.8631681301944584\n"
     ]
    },
    {
     "data": {
      "image/png": "[encoded data removed]",
      "text/plain": [
       "<Figure size 432x288 with 1 Axes>"
      ]
     },
     "metadata": {
      "needs_background": "light"
     },
     "output_type": "display_data"
    },
    {
     "name": "stdout",
     "output_type": "stream",
     "text": [
      "None\n"
     ]
    },
    {
     "data": {
      "text/plain": [
       "<Figure size 432x288 with 0 Axes>"
      ]
     },
     "metadata": {},
     "output_type": "display_data"
    }
   ],
   "source": [
    "x_values = northern_hemisphere[\"Latitude\"]\n",
    "y_values = northern_hemisphere[\"Maximum Temperature(F)\"]\n",
    "plt.ylabel(\"Maximum Temperature (F)\")\n",
    "print(linear_reg_plot(x_values,y_values))\n",
    "plt.savefig(\"Images/N.H Max temp vs Latitude regression.png\")"
   ]
  },
  {
   "cell_type": "markdown",
   "metadata": {},
   "source": [
    "####  Southern Hemisphere - Max Temp vs. Latitude Linear Regression"
   ]
  },
  {
   "cell_type": "code",
   "execution_count": 15,
   "metadata": {},
   "outputs": [
    {
     "name": "stdout",
     "output_type": "stream",
     "text": [
      "The r-squared is: 0.6134812594233391\n"
     ]
    },
    {
     "data": {
      "image/png": "[encoded data removed]",
      "text/plain": [
       "<Figure size 432x288 with 1 Axes>"
      ]
     },
     "metadata": {
      "needs_background": "light"
     },
     "output_type": "display_data"
    },
    {
     "name": "stdout",
     "output_type": "stream",
     "text": [
      "None\n"
     ]
    },
    {
     "data": {
      "text/plain": [
       "<Figure size 432x288 with 0 Axes>"
      ]
     },
     "metadata": {},
     "output_type": "display_data"
    }
   ],
   "source": [
    "x_values = southern_hemisphere[\"Latitude\"]\n",
    "y_values = southern_hemisphere[\"Maximum Temperature(F)\"]\n",
    "plt.ylabel(\"Max Temp (F)\")\n",
    "print(linear_reg_plot(x_values,y_values))\n",
    "plt.savefig(\"Images/S.H Max Temp vs Latitude regression.png\")"
   ]
  },
  {
   "cell_type": "markdown",
   "metadata": {},
   "source": [
    "####  Northern Hemisphere - Humidity (%) vs. Latitude Linear Regression"
   ]
  },
  {
   "cell_type": "code",
   "execution_count": 16,
   "metadata": {},
   "outputs": [
    {
     "name": "stdout",
     "output_type": "stream",
     "text": [
      "The r-squared is: 0.31921731642968976\n"
     ]
    },
    {
     "data": {
      "image/png": "[encoded data removed]",
      "text/plain": [
       "<Figure size 432x288 with 1 Axes>"
      ]
     },
     "metadata": {
      "needs_background": "light"
     },
     "output_type": "display_data"
    },
    {
     "name": "stdout",
     "output_type": "stream",
     "text": [
      "None\n"
     ]
    },
    {
     "data": {
      "text/plain": [
       "<Figure size 432x288 with 0 Axes>"
      ]
     },
     "metadata": {},
     "output_type": "display_data"
    }
   ],
   "source": [
    "x_values = northern_hemisphere[\"Latitude\"]\n",
    "y_values = northern_hemisphere[\"Humidity (%)\"]\n",
    "plt.ylabel(\"Humidity (%)\")\n",
    "print(linear_reg_plot(x_values,y_values))\n",
    "plt.savefig(\"Images/N.H Humidity vs Latitude regression.png\")"
   ]
  },
  {
   "cell_type": "markdown",
   "metadata": {},
   "source": [
    "####  Southern Hemisphere - Humidity (%) vs. Latitude Linear Regression"
   ]
  },
  {
   "cell_type": "code",
   "execution_count": 17,
   "metadata": {},
   "outputs": [
    {
     "name": "stdout",
     "output_type": "stream",
     "text": [
      "The r-squared is: 0.23629557721872274\n"
     ]
    },
    {
     "data": {
      "image/png": "[encoded data removed]",
      "text/plain": [
       "<Figure size 432x288 with 1 Axes>"
      ]
     },
     "metadata": {
      "needs_background": "light"
     },
     "output_type": "display_data"
    },
    {
     "name": "stdout",
     "output_type": "stream",
     "text": [
      "None\n"
     ]
    },
    {
     "data": {
      "text/plain": [
       "<Figure size 432x288 with 0 Axes>"
      ]
     },
     "metadata": {},
     "output_type": "display_data"
    }
   ],
   "source": [
    "x_values = southern_hemisphere[\"Latitude\"]\n",
    "y_values = southern_hemisphere[\"Humidity (%)\"]\n",
    "plt.ylim(0, y_values.max()+100)\n",
    "plt.ylabel(\"Humidity (%)\")\n",
    "print(linear_reg_plot(x_values,y_values))\n",
    "plt.savefig(\"Images/S.H Humidity vs wind speed regression.png\")"
   ]
  },
  {
   "cell_type": "markdown",
   "metadata": {},
   "source": [
    "####  Northern Hemisphere - Cloudiness (%) vs. Latitude Linear Regression"
   ]
  },
  {
   "cell_type": "code",
   "execution_count": 18,
   "metadata": {},
   "outputs": [
    {
     "name": "stdout",
     "output_type": "stream",
     "text": [
      "The r-squared is: 0.3073864344739565\n"
     ]
    },
    {
     "data": {
      "image/png": "[encoded data removed]",
      "text/plain": [
       "<Figure size 432x288 with 1 Axes>"
      ]
     },
     "metadata": {
      "needs_background": "light"
     },
     "output_type": "display_data"
    },
    {
     "name": "stdout",
     "output_type": "stream",
     "text": [
      "None\n"
     ]
    },
    {
     "data": {
      "text/plain": [
       "<Figure size 432x288 with 0 Axes>"
      ]
     },
     "metadata": {},
     "output_type": "display_data"
    }
   ],
   "source": [
    "x_values = northern_hemisphere[\"Latitude\"]\n",
    "y_values = northern_hemisphere[\"Cloudiness (%)\"]\n",
    "plt.ylabel(\"Cloudiness (%)\")\n",
    "print(linear_reg_plot(x_values,y_values))\n",
    "plt.savefig(\"Images/N.H Cloudiness vs Latitude regression.png\")"
   ]
  },
  {
   "cell_type": "markdown",
   "metadata": {},
   "source": [
    "####  Southern Hemisphere - Cloudiness (%) vs. Latitude Linear Regression"
   ]
  },
  {
   "cell_type": "code",
   "execution_count": 19,
   "metadata": {},
   "outputs": [
    {
     "name": "stdout",
     "output_type": "stream",
     "text": [
      "The r-squared is: 0.21944897361841845\n"
     ]
    },
    {
     "data": {
      "image/png": "[encoded data removed]",
      "text/plain": [
       "<Figure size 432x288 with 1 Axes>"
      ]
     },
     "metadata": {
      "needs_background": "light"
     },
     "output_type": "display_data"
    },
    {
     "name": "stdout",
     "output_type": "stream",
     "text": [
      "None\n"
     ]
    },
    {
     "data": {
      "text/plain": [
       "<Figure size 432x288 with 0 Axes>"
      ]
     },
     "metadata": {},
     "output_type": "display_data"
    }
   ],
   "source": [
    "x_values = southern_hemisphere[\"Latitude\"]\n",
    "y_values = southern_hemisphere[\"Cloudiness (%)\"]\n",
    "plt.ylabel(\"Cloudiness (%)\")\n",
    "print(linear_reg_plot(x_values,y_values))\n",
    "plt.savefig(\"Images/S.H Cloudiness vs Latitude regression.png\")"
   ]
  },
  {
   "cell_type": "markdown",
   "metadata": {},
   "source": [
    "####  Northern Hemisphere - Wind Speed (mph) vs. Latitude Linear Regression"
   ]
  },
  {
   "cell_type": "code",
   "execution_count": 20,
   "metadata": {},
   "outputs": [
    {
     "name": "stdout",
     "output_type": "stream",
     "text": [
      "The r-squared is: 0.15359047330732703\n"
     ]
    },
    {
     "data": {
      "image/png": "[encoded data removed]",
      "text/plain": [
       "<Figure size 432x288 with 1 Axes>"
      ]
     },
     "metadata": {
      "needs_background": "light"
     },
     "output_type": "display_data"
    },
    {
     "name": "stdout",
     "output_type": "stream",
     "text": [
      "None\n"
     ]
    },
    {
     "data": {
      "text/plain": [
       "<Figure size 432x288 with 0 Axes>"
      ]
     },
     "metadata": {},
     "output_type": "display_data"
    }
   ],
   "source": [
    "x_values = northern_hemisphere[\"Latitude\"]\n",
    "y_values = northern_hemisphere[\"Wind Speed (mph)\"]\n",
    "plt.ylabel(\"Wind Speed (mph)\")\n",
    "print(linear_reg_plot(x_values,y_values))\n",
    "plt.savefig(\"Images/N.H wind speed vs Latitude regression.png\")"
   ]
  },
  {
   "cell_type": "markdown",
   "metadata": {},
   "source": [
    "####  Southern Hemisphere - Wind Speed (mph) vs. Latitude Linear Regression"
   ]
  },
  {
   "cell_type": "code",
   "execution_count": 21,
   "metadata": {},
   "outputs": [
    {
     "name": "stdout",
     "output_type": "stream",
     "text": [
      "The r-squared is: -0.25332010531777094\n"
     ]
    },
    {
     "data": {
      "image/png": "[encoded data removed]",
      "text/plain": [
       "<Figure size 432x288 with 1 Axes>"
      ]
     },
     "metadata": {
      "needs_background": "light"
     },
     "output_type": "display_data"
    },
    {
     "name": "stdout",
     "output_type": "stream",
     "text": [
      "None\n"
     ]
    },
    {
     "data": {
      "text/plain": [
       "<Figure size 432x288 with 0 Axes>"
      ]
     },
     "metadata": {},
     "output_type": "display_data"
    }
   ],
   "source": [
    "x_values = southern_hemisphere[\"Latitude\"]\n",
    "y_values = southern_hemisphere[\"Wind Speed (mph)\"]\n",
    "plt.ylabel(\"Wind Speed (mph)\")\n",
    "print(linear_reg_plot(x_values,y_values))\n",
    "plt.savefig(\"Images/S.H wind speed vs Latitude regression.png\")"
   ]
  },
  {
   "cell_type": "code",
   "execution_count": null,
   "metadata": {},
   "outputs": [],
   "source": []
  }
 ],
 "metadata": {
  "anaconda-cloud": {},
  "kernel_info": {
   "name": "python3"
  },
  "kernelspec": {
   "display_name": "Python 3",
   "language": "python",
   "name": "python3"
  },
  "language_info": {
   "codemirror_mode": {
    "name": "ipython",
    "version": 3
   },
   "file_extension": ".py",
   "mimetype": "text/x-python",
   "name": "python",
   "nbconvert_exporter": "python",
   "pygments_lexer": "ipython3",
   "version": "3.8.3"
  },
  "latex_envs": {
   "LaTeX_envs_menu_present": true,
   "autoclose": false,
   "autocomplete": true,
   "bibliofile": "biblio.bib",
   "cite_by": "apalike",
   "current_citInitial": 1,
   "eqLabelWithNumbers": true,
   "eqNumInitial": 1,
   "hotkeys": {
    "equation": "Ctrl-E",
    "itemize": "Ctrl-I"
   },
   "labels_anchors": false,
   "latex_user_defs": false,
   "report_style_numbering": false,
   "user_envs_cfg": false
  },
  "nteract": {
   "version": "0.12.3"
  }
 },
 "nbformat": 4,
 "nbformat_minor": 2
}
